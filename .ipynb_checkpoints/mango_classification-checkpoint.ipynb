{
 "cells": [
  {
   "cell_type": "markdown",
   "metadata": {},
   "source": [
    "## mango classification"
   ]
  },
  {
   "cell_type": "markdown",
   "metadata": {},
   "source": [
    "## 電容"
   ]
  },
  {
   "cell_type": "code",
   "execution_count": 1,
   "metadata": {},
   "outputs": [
    {
     "name": "stderr",
     "output_type": "stream",
     "text": [
      "C:\\Users\\nien\\Anaconda3\\envs\\tensorflow-gpu\\lib\\site-packages\\h5py\\__init__.py:36: FutureWarning: Conversion of the second argument of issubdtype from `float` to `np.floating` is deprecated. In future, it will be treated as `np.float64 == np.dtype(float).type`.\n",
      "  from ._conv import register_converters as _register_converters\n",
      "Using TensorFlow backend.\n"
     ]
    }
   ],
   "source": [
    "import keras\n",
    "from keras.preprocessing.image import ImageDataGenerator\n",
    "from keras.models import Sequential\n",
    "from keras.layers import Dense, Dropout, Activation, Flatten\n",
    "from keras.layers import Conv2D, MaxPooling2D\n",
    "from sklearn.model_selection import train_test_split\n",
    "from sklearn.metrics import confusion_matrix\n",
    "import matplotlib.pyplot as plt\n",
    "from mlxtend.plotting import plot_confusion_matrix\n",
    "from keras import optimizers\n",
    "import tensorflow as tf\n",
    "import pandas as pd\n",
    "import os\n",
    "import cv2\n",
    "import csv\n",
    "import glob\n",
    "import numpy as np\n",
    "from keras.models import load_model"
   ]
  },
  {
   "cell_type": "markdown",
   "metadata": {},
   "source": [
    "## load data"
   ]
  },
  {
   "cell_type": "code",
   "execution_count": 18,
   "metadata": {},
   "outputs": [],
   "source": [
    "import os\n",
    "import cv2\n",
    "import pandas as pd\n",
    "import numpy as np"
   ]
  },
  {
   "cell_type": "code",
   "execution_count": 31,
   "metadata": {
    "scrolled": true
   },
   "outputs": [
    {
     "name": "stdout",
     "output_type": "stream",
     "text": [
      "(1008, 1344, 3)\n",
      "(252, 336, 3)\n",
      "----------------\n",
      "(816, 1088, 3)\n",
      "(204, 272, 3)\n",
      "----------------\n",
      "(1008, 1344, 3)\n",
      "(252, 336, 3)\n",
      "----------------\n",
      "(1008, 1344, 3)\n",
      "(252, 336, 3)\n",
      "----------------\n",
      "(1536, 1152, 3)\n",
      "(384, 288, 3)\n",
      "----------------\n",
      "(1008, 1344, 3)\n",
      "(252, 336, 3)\n",
      "----------------\n",
      "(1008, 1344, 3)\n",
      "(252, 336, 3)\n",
      "----------------\n",
      "(1008, 1344, 3)\n",
      "(252, 336, 3)\n",
      "----------------\n",
      "(1536, 1152, 3)\n",
      "(384, 288, 3)\n",
      "----------------\n",
      "(1536, 1152, 3)\n",
      "(384, 288, 3)\n",
      "----------------\n",
      "(1008, 1344, 3)\n",
      "(252, 336, 3)\n",
      "----------------\n",
      "(1152, 1536, 3)\n",
      "(288, 384, 3)\n",
      "----------------\n",
      "(1008, 1344, 3)\n",
      "(252, 336, 3)\n",
      "----------------\n",
      "(1008, 1344, 3)\n",
      "(252, 336, 3)\n",
      "----------------\n",
      "(1008, 1344, 3)\n",
      "(252, 336, 3)\n",
      "----------------\n",
      "(816, 1088, 3)\n",
      "(204, 272, 3)\n",
      "----------------\n",
      "(1536, 1152, 3)\n",
      "(384, 288, 3)\n",
      "----------------\n",
      "(1008, 1344, 3)\n",
      "(252, 336, 3)\n",
      "----------------\n",
      "(816, 1088, 3)\n",
      "(204, 272, 3)\n",
      "----------------\n",
      "(1008, 1344, 3)\n",
      "(252, 336, 3)\n",
      "----------------\n",
      "(1008, 1344, 3)\n",
      "(252, 336, 3)\n",
      "----------------\n",
      "(1008, 1344, 3)\n",
      "(252, 336, 3)\n",
      "----------------\n",
      "(1008, 1344, 3)\n",
      "(252, 336, 3)\n",
      "----------------\n",
      "(816, 1088, 3)\n",
      "(204, 272, 3)\n",
      "----------------\n",
      "(720, 1280, 3)\n",
      "(180, 320, 3)\n",
      "----------------\n",
      "(1008, 1344, 3)\n",
      "(252, 336, 3)\n",
      "----------------\n",
      "(1008, 1344, 3)\n",
      "(252, 336, 3)\n",
      "----------------\n",
      "(816, 1088, 3)\n",
      "(204, 272, 3)\n",
      "----------------\n",
      "(816, 1088, 3)\n",
      "(204, 272, 3)\n",
      "----------------\n",
      "(1008, 1344, 3)\n",
      "(252, 336, 3)\n",
      "----------------\n",
      "(1008, 1344, 3)\n",
      "(252, 336, 3)\n",
      "----------------\n",
      "(1536, 1152, 3)\n",
      "(384, 288, 3)\n",
      "----------------\n",
      "(1536, 1152, 3)\n",
      "(384, 288, 3)\n",
      "----------------\n",
      "(1008, 1344, 3)\n",
      "(252, 336, 3)\n",
      "----------------\n",
      "(1536, 1152, 3)\n",
      "(384, 288, 3)\n",
      "----------------\n",
      "(1008, 1344, 3)\n",
      "(252, 336, 3)\n",
      "----------------\n",
      "(1008, 1344, 3)\n",
      "(252, 336, 3)\n",
      "----------------\n",
      "(1536, 1152, 3)\n",
      "(384, 288, 3)\n",
      "----------------\n",
      "(720, 1280, 3)\n",
      "(180, 320, 3)\n",
      "----------------\n",
      "(1008, 1344, 3)\n",
      "(252, 336, 3)\n",
      "----------------\n",
      "(1536, 1152, 3)\n",
      "(384, 288, 3)\n",
      "----------------\n",
      "(1008, 1344, 3)\n",
      "(252, 336, 3)\n",
      "----------------\n",
      "(816, 1088, 3)\n",
      "(204, 272, 3)\n",
      "----------------\n",
      "(720, 1280, 3)\n",
      "(180, 320, 3)\n",
      "----------------\n",
      "(816, 1088, 3)\n",
      "(204, 272, 3)\n",
      "----------------\n",
      "(1008, 1344, 3)\n",
      "(252, 336, 3)\n",
      "----------------\n",
      "(720, 1280, 3)\n",
      "(180, 320, 3)\n",
      "----------------\n",
      "(1152, 1536, 3)\n",
      "(288, 384, 3)\n",
      "----------------\n",
      "(816, 1088, 3)\n",
      "(204, 272, 3)\n",
      "----------------\n",
      "(1536, 1152, 3)\n",
      "(384, 288, 3)\n",
      "----------------\n",
      "(50,)\n"
     ]
    },
    {
     "ename": "IndexError",
     "evalue": "tuple index out of range",
     "output_type": "error",
     "traceback": [
      "\u001b[1;31m---------------------------------------------------------------------------\u001b[0m",
      "\u001b[1;31mIndexError\u001b[0m                                Traceback (most recent call last)",
      "\u001b[1;32m<ipython-input-31-14b4ab650cd2>\u001b[0m in \u001b[0;36m<module>\u001b[1;34m()\u001b[0m\n\u001b[0;32m     30\u001b[0m \u001b[0mdata\u001b[0m \u001b[1;33m=\u001b[0m \u001b[0mnp\u001b[0m\u001b[1;33m.\u001b[0m\u001b[0marray\u001b[0m\u001b[1;33m(\u001b[0m\u001b[0mdata\u001b[0m\u001b[1;33m)\u001b[0m\u001b[1;33m\u001b[0m\u001b[0m\n\u001b[0;32m     31\u001b[0m \u001b[0mprint\u001b[0m\u001b[1;33m(\u001b[0m\u001b[0mdata\u001b[0m\u001b[1;33m.\u001b[0m\u001b[0mshape\u001b[0m\u001b[1;33m)\u001b[0m\u001b[1;33m\u001b[0m\u001b[0m\n\u001b[1;32m---> 32\u001b[1;33m \u001b[0mdata\u001b[0m \u001b[1;33m=\u001b[0m \u001b[0mdata\u001b[0m\u001b[1;33m.\u001b[0m\u001b[0mreshape\u001b[0m\u001b[1;33m(\u001b[0m\u001b[0mdata\u001b[0m\u001b[1;33m.\u001b[0m\u001b[0mshape\u001b[0m\u001b[1;33m[\u001b[0m\u001b[1;36m0\u001b[0m\u001b[1;33m]\u001b[0m\u001b[1;33m,\u001b[0m\u001b[0mdata\u001b[0m\u001b[1;33m.\u001b[0m\u001b[0mshape\u001b[0m\u001b[1;33m[\u001b[0m\u001b[1;36m1\u001b[0m\u001b[1;33m]\u001b[0m\u001b[1;33m,\u001b[0m\u001b[0mdata\u001b[0m\u001b[1;33m.\u001b[0m\u001b[0mshape\u001b[0m\u001b[1;33m[\u001b[0m\u001b[1;36m2\u001b[0m\u001b[1;33m]\u001b[0m\u001b[1;33m,\u001b[0m\u001b[1;36m3\u001b[0m\u001b[1;33m)\u001b[0m\u001b[1;33m\u001b[0m\u001b[0m\n\u001b[0m\u001b[0;32m     33\u001b[0m \u001b[0mlabel\u001b[0m \u001b[1;33m=\u001b[0m \u001b[0mnp\u001b[0m\u001b[1;33m.\u001b[0m\u001b[0marray\u001b[0m\u001b[1;33m(\u001b[0m\u001b[0mlabel\u001b[0m\u001b[1;33m)\u001b[0m\u001b[1;33m\u001b[0m\u001b[0m\n\u001b[0;32m     34\u001b[0m \u001b[0mprint\u001b[0m\u001b[1;33m(\u001b[0m\u001b[0mdata\u001b[0m\u001b[1;33m.\u001b[0m\u001b[0mshape\u001b[0m\u001b[1;33m)\u001b[0m\u001b[1;33m\u001b[0m\u001b[0m\n",
      "\u001b[1;31mIndexError\u001b[0m: tuple index out of range"
     ]
    }
   ],
   "source": [
    "path=\"D:/GDbackup/PROJECT/mango/data/C1-P1_Train/\"\n",
    "file = 'D:/GDbackup/PROJECT/mango/data/train.csv'\n",
    "\n",
    "rate = 4\n",
    "count = 0\n",
    "label_file = pd.read_csv(file)\n",
    "label_dict = {'A':1,'B':2,'C':3}\n",
    "\n",
    "data = []\n",
    "label = []\n",
    "for i in os.listdir(path):\n",
    "    if i.endswith('.jpg'):\n",
    "        # label\n",
    "        label_data = label_dict[label_file[label_file['image_id'] == i].values[0][1]]\n",
    "        label.append(label_data)\n",
    "\n",
    "        #image\n",
    "        image_data = cv2.imread(path + i, cv2.IMREAD_COLOR)\n",
    "        print(image_data.shape)\n",
    "        image_data = cv2.resize(image_data,(int(image_data.shape[1] / rate),int(image_data.shape[0] / rate)))\n",
    "        print(image_data.shape)\n",
    "        data.append(image_data/255)\n",
    "        print(\"----------------\")\n",
    "    \n",
    "        count += 1\n",
    "        if count % 50 == 0:\n",
    "            #print('load %d file'%(count))\n",
    "            break\n",
    "\n",
    "data = np.array(data)\n",
    "print(data.shape)\n",
    "data = data.reshape(data.shape[0],data.shape[1],data.shape[2],3)\n",
    "label = np.array(label)\n",
    "print(data.shape)\n",
    "print(label.shape)"
   ]
  },
  {
   "cell_type": "code",
   "execution_count": null,
   "metadata": {},
   "outputs": [],
   "source": []
  },
  {
   "cell_type": "code",
   "execution_count": null,
   "metadata": {},
   "outputs": [],
   "source": []
  },
  {
   "cell_type": "code",
   "execution_count": 49,
   "metadata": {},
   "outputs": [
    {
     "name": "stdout",
     "output_type": "stream",
     "text": [
      "C\n"
     ]
    }
   ],
   "source": [
    "loc = label_file[label_file['image_id'] == name].values[0][1]\n",
    "print(loc)"
   ]
  },
  {
   "cell_type": "code",
   "execution_count": null,
   "metadata": {},
   "outputs": [],
   "source": []
  },
  {
   "cell_type": "code",
   "execution_count": null,
   "metadata": {},
   "outputs": [],
   "source": []
  },
  {
   "cell_type": "code",
   "execution_count": null,
   "metadata": {},
   "outputs": [],
   "source": []
  },
  {
   "cell_type": "code",
   "execution_count": null,
   "metadata": {},
   "outputs": [],
   "source": []
  },
  {
   "cell_type": "code",
   "execution_count": null,
   "metadata": {},
   "outputs": [],
   "source": []
  },
  {
   "cell_type": "code",
   "execution_count": null,
   "metadata": {},
   "outputs": [],
   "source": []
  },
  {
   "cell_type": "code",
   "execution_count": null,
   "metadata": {},
   "outputs": [],
   "source": []
  },
  {
   "cell_type": "code",
   "execution_count": 58,
   "metadata": {
    "scrolled": true
   },
   "outputs": [
    {
     "name": "stdout",
     "output_type": "stream",
     "text": [
      "1\n"
     ]
    }
   ],
   "source": [
    "file = 'D:/GDbackup/PROJECT/mango/data/train.csv'\n",
    "name = '00017.jpg'\n",
    "\n",
    "label = {'A':1,'B':2,'C':3}\n",
    "\n",
    "label_file = pd.read_csv(file)\n",
    "\n",
    "loc=label[label_file[label_file['image_id'] == name].values[0][1]]\n",
    "print(loc)\n",
    "\n",
    "#label_file.loc('image_id')"
   ]
  },
  {
   "cell_type": "code",
   "execution_count": 54,
   "metadata": {},
   "outputs": [
    {
     "data": {
      "text/plain": [
       "3"
      ]
     },
     "execution_count": 54,
     "metadata": {},
     "output_type": "execute_result"
    }
   ],
   "source": [
    "label['C']"
   ]
  },
  {
   "cell_type": "code",
   "execution_count": 36,
   "metadata": {},
   "outputs": [
    {
     "ename": "TypeError",
     "evalue": "'RangeIndex' object is not callable",
     "output_type": "error",
     "traceback": [
      "\u001b[1;31m---------------------------------------------------------------------------\u001b[0m",
      "\u001b[1;31mTypeError\u001b[0m                                 Traceback (most recent call last)",
      "\u001b[1;32m<ipython-input-36-3fca9707a8f8>\u001b[0m in \u001b[0;36m<module>\u001b[1;34m()\u001b[0m\n\u001b[1;32m----> 1\u001b[1;33m \u001b[0mlabel_file\u001b[0m\u001b[1;33m.\u001b[0m\u001b[0mindex\u001b[0m\u001b[1;33m(\u001b[0m\u001b[1;33m)\u001b[0m\u001b[1;33m\u001b[0m\u001b[0m\n\u001b[0m",
      "\u001b[1;31mTypeError\u001b[0m: 'RangeIndex' object is not callable"
     ]
    }
   ],
   "source": [
    "label_file.index()"
   ]
  },
  {
   "cell_type": "code",
   "execution_count": 2,
   "metadata": {},
   "outputs": [
    {
     "name": "stdout",
     "output_type": "stream",
     "text": [
      "200  image data retreived\n",
      "400  image data retreived\n",
      "600  image data retreived\n",
      "800  image data retreived\n",
      "1000  image data retreived\n",
      "1200  image data retreived\n",
      "1400  image data retreived\n",
      "1600  image data retreived\n",
      "1800  image data retreived\n",
      "2000  image data retreived\n",
      "2200  image data retreived\n",
      "2400  image data retreived\n",
      "2600  image data retreived\n",
      "2800  image data retreived\n",
      "3000  image data retreived\n",
      "3200  image data retreived\n",
      "3400  image data retreived\n",
      "3600  image data retreived\n",
      "3800  image data retreived\n",
      "4000  image data retreived\n",
      "4200  image data retreived\n",
      "(4230, 80, 80, 3)\n",
      "(4230,)\n"
     ]
    }
   ],
   "source": [
    "label=[]\n",
    "data=[]\n",
    "counter=0\n",
    "#IMAGE_SIZE = 80\n",
    "BATCH_SIZE = 20\n",
    "path=\"D:/GDbackup/PROJECT/mango/data/C1-P1_Train/\"\n",
    "\n",
    "for file in os.listdir(path):\n",
    "    image_data=cv2.imread(os.path.join(path,file), cv2.IMREAD_COLOR)\n",
    "    #image_data=cv2.resize(image_data,(IMAGE_SIZE,IMAGE_SIZE))\n",
    "    if file.startswith(\"pass\"):\n",
    "        label.append(0)\n",
    "    elif file.startswith(\"defect\"):\n",
    "        label.append(1)\n",
    "    try:\n",
    "        data.append(image_data/255)\n",
    "    except:\n",
    "        label=label[:len(label)-1]\n",
    "    counter+=1\n",
    "    if counter%200==0:\n",
    "        print (counter,\" image data retreived\")\n",
    "\n",
    "data=np.array(data)\n",
    "data=data.reshape((data.shape)[0],(data.shape)[1],(data.shape)[2],3)\n",
    "label=np.array(label)\n",
    "print(data.shape)\n",
    "print(label.shape)"
   ]
  },
  {
   "cell_type": "code",
   "execution_count": 3,
   "metadata": {},
   "outputs": [
    {
     "name": "stdout",
     "output_type": "stream",
     "text": [
      "(3384, 80, 80, 3)\n",
      "(3384,)\n",
      "(846, 80, 80, 3)\n",
      "(846,)\n"
     ]
    }
   ],
   "source": [
    "train_data, valid_data, train_label, valid_label = train_test_split(\n",
    "    data, label, test_size=0.2, random_state=42)\n",
    "print(train_data.shape)\n",
    "print(train_label.shape)\n",
    "print(valid_data.shape)\n",
    "print(valid_label.shape)"
   ]
  },
  {
   "cell_type": "markdown",
   "metadata": {},
   "source": [
    "## model"
   ]
  },
  {
   "cell_type": "code",
   "execution_count": 4,
   "metadata": {},
   "outputs": [
    {
     "name": "stdout",
     "output_type": "stream",
     "text": [
      "WARNING:tensorflow:From C:\\Users\\nien\\Anaconda3\\envs\\tensorflow-gpu\\lib\\site-packages\\keras\\backend\\tensorflow_backend.py:1264: calling reduce_prod (from tensorflow.python.ops.math_ops) with keep_dims is deprecated and will be removed in a future version.\n",
      "Instructions for updating:\n",
      "keep_dims is deprecated, use keepdims instead\n",
      "_________________________________________________________________\n",
      "Layer (type)                 Output Shape              Param #   \n",
      "=================================================================\n",
      "conv2d_1 (Conv2D)            (None, 80, 80, 3)         84        \n",
      "_________________________________________________________________\n",
      "activation_1 (Activation)    (None, 80, 80, 3)         0         \n",
      "_________________________________________________________________\n",
      "conv2d_2 (Conv2D)            (None, 78, 78, 32)        896       \n",
      "_________________________________________________________________\n",
      "activation_2 (Activation)    (None, 78, 78, 32)        0         \n",
      "_________________________________________________________________\n",
      "max_pooling2d_1 (MaxPooling2 (None, 39, 39, 32)        0         \n",
      "_________________________________________________________________\n",
      "dropout_1 (Dropout)          (None, 39, 39, 32)        0         \n",
      "_________________________________________________________________\n",
      "conv2d_3 (Conv2D)            (None, 39, 39, 64)        18496     \n",
      "_________________________________________________________________\n",
      "activation_3 (Activation)    (None, 39, 39, 64)        0         \n",
      "_________________________________________________________________\n",
      "conv2d_4 (Conv2D)            (None, 37, 37, 64)        36928     \n",
      "_________________________________________________________________\n",
      "activation_4 (Activation)    (None, 37, 37, 64)        0         \n",
      "_________________________________________________________________\n",
      "max_pooling2d_2 (MaxPooling2 (None, 18, 18, 64)        0         \n",
      "_________________________________________________________________\n",
      "dropout_2 (Dropout)          (None, 18, 18, 64)        0         \n",
      "_________________________________________________________________\n",
      "flatten_1 (Flatten)          (None, 20736)             0         \n",
      "_________________________________________________________________\n",
      "dense_1 (Dense)              (None, 512)               10617344  \n",
      "_________________________________________________________________\n",
      "activation_5 (Activation)    (None, 512)               0         \n",
      "_________________________________________________________________\n",
      "dropout_3 (Dropout)          (None, 512)               0         \n",
      "_________________________________________________________________\n",
      "dense_2 (Dense)              (None, 256)               131328    \n",
      "_________________________________________________________________\n",
      "dense_3 (Dense)              (None, 126)               32382     \n",
      "_________________________________________________________________\n",
      "dense_4 (Dense)              (None, 1)                 127       \n",
      "=================================================================\n",
      "Total params: 10,837,585\n",
      "Trainable params: 10,837,585\n",
      "Non-trainable params: 0\n",
      "_________________________________________________________________\n"
     ]
    }
   ],
   "source": [
    "model = Sequential()\n",
    "model.add(Conv2D(3, (3, 3), padding='same',\n",
    "                 input_shape=train_data.shape[1:]))\n",
    "model.add(Activation('relu'))\n",
    "model.add(Conv2D(32, (3, 3)))\n",
    "model.add(Activation('relu'))\n",
    "model.add(MaxPooling2D(pool_size=(2, 2)))\n",
    "model.add(Dropout(0.25))\n",
    "\n",
    "model.add(Conv2D(64, (3, 3), padding='same'))\n",
    "model.add(Activation('relu'))\n",
    "model.add(Conv2D(64, (3, 3)))\n",
    "model.add(Activation('relu'))\n",
    "model.add(MaxPooling2D(pool_size=(2, 2)))\n",
    "model.add(Dropout(0.25))\n",
    "\n",
    "model.add(Flatten())\n",
    "model.add(Dense(512))\n",
    "model.add(Activation('relu'))\n",
    "model.add(Dropout(0.5))\n",
    "model.add(Dense(256, activation = 'relu'))\n",
    "model.add(Dense(126, activation = 'relu'))\n",
    "model.add(Dense(1, activation = 'sigmoid'))\n",
    "\n",
    "# initiate RMSprop optimizer\n",
    "#opt = keras.optimizers.rmsprop(lr=0.0001, decay=1e-6)\n",
    "\n",
    "# Let's train the model using RMSprop\n",
    "#model.compile(loss='sparse_categorical_crossentropy',\n",
    "              #optimizer=opt,\n",
    "              #metrics=['accuracy'])\n",
    "\n",
    "model.summary()"
   ]
  },
  {
   "cell_type": "markdown",
   "metadata": {},
   "source": [
    "## compile + train"
   ]
  },
  {
   "cell_type": "code",
   "execution_count": 5,
   "metadata": {},
   "outputs": [
    {
     "name": "stdout",
     "output_type": "stream",
     "text": [
      "WARNING:tensorflow:From C:\\Users\\nien\\Anaconda3\\envs\\tensorflow-gpu\\lib\\site-packages\\keras\\backend\\tensorflow_backend.py:1349: calling reduce_mean (from tensorflow.python.ops.math_ops) with keep_dims is deprecated and will be removed in a future version.\n",
      "Instructions for updating:\n",
      "keep_dims is deprecated, use keepdims instead\n",
      "Epoch 1/20\n",
      "3380/3384 [============================>.] - ETA: 0s - loss: 0.2618 - acc: 0.8873\n",
      "Epoch 00001: saving model to check\\model.ckpt\n",
      "3384/3384 [==============================] - 20s 6ms/step - loss: 0.2615 - acc: 0.8874\n",
      "Epoch 2/20\n",
      "3360/3384 [============================>.] - ETA: 0s - loss: 0.1217 - acc: 0.9455\n",
      "Epoch 00002: saving model to check\\model.ckpt\n",
      "3384/3384 [==============================] - 8s 2ms/step - loss: 0.1212 - acc: 0.9456\n",
      "Epoch 3/20\n",
      "3360/3384 [============================>.] - ETA: 0s - loss: 0.0994 - acc: 0.9607\n",
      "Epoch 00003: saving model to check\\model.ckpt\n",
      "3384/3384 [==============================] - 8s 2ms/step - loss: 0.0987 - acc: 0.9610\n",
      "Epoch 4/20\n",
      "3360/3384 [============================>.] - ETA: 0s - loss: 0.0825 - acc: 0.9676\n",
      "Epoch 00004: saving model to check\\model.ckpt\n",
      "3384/3384 [==============================] - 8s 2ms/step - loss: 0.0836 - acc: 0.9672\n",
      "Epoch 5/20\n",
      "3380/3384 [============================>.] - ETA: 0s - loss: 0.0678 - acc: 0.9751\n",
      "Epoch 00005: saving model to check\\model.ckpt\n",
      "3384/3384 [==============================] - 8s 2ms/step - loss: 0.0678 - acc: 0.9752\n",
      "Epoch 6/20\n",
      "3380/3384 [============================>.] - ETA: 0s - loss: 0.0572 - acc: 0.9781\n",
      "Epoch 00006: saving model to check\\model.ckpt\n",
      "3384/3384 [==============================] - 8s 2ms/step - loss: 0.0571 - acc: 0.9781\n",
      "Epoch 7/20\n",
      "3380/3384 [============================>.] - ETA: 0s - loss: 0.0457 - acc: 0.9837\n",
      "Epoch 00007: saving model to check\\model.ckpt\n",
      "3384/3384 [==============================] - 8s 2ms/step - loss: 0.0456 - acc: 0.9837\n",
      "Epoch 8/20\n",
      "3360/3384 [============================>.] - ETA: 0s - loss: 0.0383 - acc: 0.9848- ETA: 2\n",
      "Epoch 00008: saving model to check\\model.ckpt\n",
      "3384/3384 [==============================] - 8s 2ms/step - loss: 0.0381 - acc: 0.9849\n",
      "Epoch 9/20\n",
      "3380/3384 [============================>.] - ETA: 0s - loss: 0.0265 - acc: 0.9926\n",
      "Epoch 00009: saving model to check\\model.ckpt\n",
      "3384/3384 [==============================] - 9s 3ms/step - loss: 0.0264 - acc: 0.9926\n",
      "Epoch 10/20\n",
      "3360/3384 [============================>.] - ETA: 0s - loss: 0.0193 - acc: 0.9943\n",
      "Epoch 00010: saving model to check\\model.ckpt\n",
      "3384/3384 [==============================] - 8s 2ms/step - loss: 0.0192 - acc: 0.9944\n",
      "Epoch 11/20\n",
      "3380/3384 [============================>.] - ETA: 0s - loss: 0.0158 - acc: 0.9953\n",
      "Epoch 00011: saving model to check\\model.ckpt\n",
      "3384/3384 [==============================] - 8s 2ms/step - loss: 0.0164 - acc: 0.9950\n",
      "Epoch 12/20\n",
      "3360/3384 [============================>.] - ETA: 0s - loss: 0.0214 - acc: 0.9940\n",
      "Epoch 00012: saving model to check\\model.ckpt\n",
      "3384/3384 [==============================] - 8s 2ms/step - loss: 0.0213 - acc: 0.9941\n",
      "Epoch 13/20\n",
      "3380/3384 [============================>.] - ETA: 0s - loss: 0.0057 - acc: 0.9988\n",
      "Epoch 00013: saving model to check\\model.ckpt\n",
      "3384/3384 [==============================] - 8s 2ms/step - loss: 0.0057 - acc: 0.9988\n",
      "Epoch 14/20\n",
      "3360/3384 [============================>.] - ETA: 0s - loss: 0.0066 - acc: 0.9973\n",
      "Epoch 00014: saving model to check\\model.ckpt\n",
      "3384/3384 [==============================] - 8s 2ms/step - loss: 0.0070 - acc: 0.9970\n",
      "Epoch 15/20\n",
      "3380/3384 [============================>.] - ETA: 0s - loss: 0.0138 - acc: 0.9956\n",
      "Epoch 00015: saving model to check\\model.ckpt\n",
      "3384/3384 [==============================] - 8s 2ms/step - loss: 0.0138 - acc: 0.9956\n",
      "Epoch 16/20\n",
      "3380/3384 [============================>.] - ETA: 0s - loss: 0.0023 - acc: 0.9997\n",
      "Epoch 00016: saving model to check\\model.ckpt\n",
      "3384/3384 [==============================] - 8s 2ms/step - loss: 0.0023 - acc: 0.9997\n",
      "Epoch 17/20\n",
      "3360/3384 [============================>.] - ETA: 0s - loss: 0.0017 - acc: 0.9997\n",
      "Epoch 00017: saving model to check\\model.ckpt\n",
      "3384/3384 [==============================] - 8s 2ms/step - loss: 0.0017 - acc: 0.9997\n",
      "Epoch 18/20\n",
      "3380/3384 [============================>.] - ETA: 0s - loss: 0.0027 - acc: 0.9994\n",
      "Epoch 00018: saving model to check\\model.ckpt\n",
      "3384/3384 [==============================] - 8s 2ms/step - loss: 0.0027 - acc: 0.9994\n",
      "Epoch 19/20\n",
      "3360/3384 [============================>.] - ETA: 0s - loss: 0.0011 - acc: 1.0000\n",
      "Epoch 00019: saving model to check\\model.ckpt\n",
      "3384/3384 [==============================] - 9s 3ms/step - loss: 0.0011 - acc: 1.0000\n",
      "Epoch 20/20\n",
      "3380/3384 [============================>.] - ETA: 0s - loss: 7.5890e-04 - acc: 1.0000\n",
      "Epoch 00020: saving model to check\\model.ckpt\n",
      "3384/3384 [==============================] - 8s 2ms/step - loss: 7.5801e-04 - acc: 1.0000\n"
     ]
    }
   ],
   "source": [
    "model.compile(loss='binary_crossentropy',optimizer=optimizers.adam(lr=1e-4),metrics=['acc'])\n",
    "checkpoint_path = \"check\\\\model.ckpt\"\n",
    "cp_callback = tf.keras.callbacks.ModelCheckpoint(checkpoint_path,\n",
    "                                                 save_weights_only=True,\n",
    "                                                 verbose=1)\n",
    "train_history=model.fit(train_data, train_label, epochs=20, batch_size=BATCH_SIZE, callbacks = [cp_callback])"
   ]
  },
  {
   "cell_type": "markdown",
   "metadata": {},
   "source": [
    "## save model"
   ]
  },
  {
   "cell_type": "code",
   "execution_count": null,
   "metadata": {},
   "outputs": [],
   "source": [
    "model.save(model_name)"
   ]
  },
  {
   "cell_type": "code",
   "execution_count": 6,
   "metadata": {},
   "outputs": [],
   "source": [
    "model_name = 'model-weight.h5'\n",
    "model.save_weights(model_name)"
   ]
  },
  {
   "cell_type": "code",
   "execution_count": 7,
   "metadata": {},
   "outputs": [],
   "source": [
    "model_json = model.to_json()\n",
    "with open(\"model.json\", \"w\") as json_file:\n",
    "    json_file.write(model_json)"
   ]
  },
  {
   "cell_type": "markdown",
   "metadata": {},
   "source": [
    "## test"
   ]
  },
  {
   "cell_type": "code",
   "execution_count": null,
   "metadata": {},
   "outputs": [],
   "source": [
    "Y_pred = model.predict(valid_data)\n",
    "predicted_label=np.round(Y_pred,decimals=2)"
   ]
  },
  {
   "cell_type": "code",
   "execution_count": null,
   "metadata": {},
   "outputs": [],
   "source": [
    "CM = confusion_matrix(valid_label, Y_pred.round())\n",
    "fig, ax = plot_confusion_matrix(conf_mat=CM ,  figsize=(12, 12))\n",
    "plt.xticks(range(2), ['pass', 'defect'], fontsize=16)\n",
    "plt.yticks(range(2), ['pass', 'defect'], fontsize=16)\n",
    "plt.show()"
   ]
  },
  {
   "cell_type": "code",
   "execution_count": null,
   "metadata": {},
   "outputs": [],
   "source": [
    "test_data=[]\n",
    "id=[]\n",
    "answer = []\n",
    "counter=0\n",
    "IMAGE_SIZE=80\n",
    "\n",
    "#for file in os.listdir(\"..\\\\tensorflow-classification\\\\dataset\\\\test_pass\"):\n",
    "for file in os.listdir(\"D:/GDbackup/PROJECT/AOI_RACE/tensorflow-classification/dataset/test01/\"):\n",
    "    pic = \"D:/GDbackup/PROJECT/AOI_RACE/tensorflow-classification/dataset/test01/\" + file\n",
    "    image_data=cv2.imread(os.path.join(pic), cv2.IMREAD_COLOR)\n",
    "    \n",
    "    try:\n",
    "        image_data=cv2.resize(image_data,(IMAGE_SIZE,IMAGE_SIZE))\n",
    "        test_data.append(image_data/255)\n",
    "        id.append(file.split(\".\")[0] + \".\" + file.split(\".\")[1])\n",
    "        if file.startswith(\"pass\"):\n",
    "            answer.append(0)\n",
    "        else:\n",
    "            answer.append(1)\n",
    "    except:\n",
    "        print (\"what the fuck\")\n",
    "    counter+=1\n",
    "\n",
    "\n",
    "test_data=np.array(test_data)\n",
    "print (test_data.shape)\n",
    "test_data=test_data.reshape((test_data.shape)[0],(test_data.shape)[1],(test_data.shape)[2],3)\n",
    "dataframe_output=pd.DataFrame({\"id\":id})\n",
    "\n",
    "predicted_labels=model.predict(test_data)\n",
    "predicted_labels=np.round(predicted_labels,decimals=2)\n",
    "labels=[1 if value>0.5 else 0 for value in predicted_labels]\n",
    "\n",
    "dataframe_output[\"label\"]=labels\n",
    "dataframe_output[\"answer\"]=answer\n",
    "print(dataframe_output)\n",
    "dataframe_output.to_csv('result.csv')"
   ]
  },
  {
   "cell_type": "code",
   "execution_count": null,
   "metadata": {},
   "outputs": [],
   "source": [
    "test_data=[]\n",
    "id=[]\n",
    "answer = []\n",
    "counter=0\n",
    "IMAGE_SIZE=80\n",
    "\n",
    "#for file in os.listdir(\"..\\\\tensorflow-classification\\\\dataset\\\\test_pass\"):\n",
    "for file in os.listdir(\"D:/GDbackup/PROJECT/AOI_rebuild/HackIDB_0614/Dataset/AOI_DL_data_1013/\"):\n",
    "    pic = \"D:/GDbackup/PROJECT/AOI_RACE/tensorflow-classification/dataset/test01/\" + file\n",
    "    image_data=cv2.imread(os.path.join(pic), cv2.IMREAD_COLOR)\n",
    "    \n",
    "    try:\n",
    "        image_data=cv2.resize(image_data,(IMAGE_SIZE,IMAGE_SIZE))\n",
    "        test_data.append(image_data/255)\n",
    "        id.append(file.split(\".\")[0] + \".\" + file.split(\".\")[1])\n",
    "        if file.startswith(\"pass\"):\n",
    "            answer.append(0)\n",
    "        else:\n",
    "            answer.append(1)\n",
    "    except:\n",
    "        print (\"what the fuck\")\n",
    "    counter+=1\n",
    "    \n",
    "\n",
    "\n",
    "\n",
    "test_data=np.array(test_data)\n",
    "print (test_data.shape)\n",
    "test_data=test_data.reshape((test_data.shape)[0],(test_data.shape)[1],(test_data.shape)[2],3)\n",
    "dataframe_output=pd.DataFrame({\"id\":id})\n",
    "\n",
    "predicted_labels=model.predict(test_data)\n",
    "predicted_labels=np.round(predicted_labels,decimals=2)\n",
    "labels=[1 if value>0.5 else 0 for value in predicted_labels]\n",
    "\n",
    "dataframe_output[\"label\"]=labels\n",
    "dataframe_output[\"answer\"]=answer\n",
    "print(dataframe_output)\n",
    "dataframe_output.to_csv('result.csv')"
   ]
  },
  {
   "cell_type": "code",
   "execution_count": 3,
   "metadata": {},
   "outputs": [
    {
     "name": "stdout",
     "output_type": "stream",
     "text": [
      "WARNING:tensorflow:From C:\\Users\\nien\\Anaconda3\\envs\\tensorflow-gpu\\lib\\site-packages\\keras\\backend\\tensorflow_backend.py:1264: calling reduce_prod (from tensorflow.python.ops.math_ops) with keep_dims is deprecated and will be removed in a future version.\n",
      "Instructions for updating:\n",
      "keep_dims is deprecated, use keepdims instead\n",
      "WARNING:tensorflow:From C:\\Users\\nien\\Anaconda3\\envs\\tensorflow-gpu\\lib\\site-packages\\keras\\backend\\tensorflow_backend.py:1349: calling reduce_mean (from tensorflow.python.ops.math_ops) with keep_dims is deprecated and will be removed in a future version.\n",
      "Instructions for updating:\n",
      "keep_dims is deprecated, use keepdims instead\n"
     ]
    }
   ],
   "source": [
    "test_data=[]\n",
    "id=[]\n",
    "answer = []\n",
    "IMAGE_SIZE=80\n",
    "\n",
    "model = load_model('models/keras.h5')\n",
    "\n",
    "name = glob.glob(\"D:/GDbackup/PROJECT/AOI_rebuild/HackIDB_0614/release_test/*/*_C*\")\n",
    "#print(len(name))\n",
    "for i in name:\n",
    "    image_data=cv2.imread(os.path.join(i), cv2.IMREAD_COLOR)\n",
    "    image_data=cv2.resize(image_data,(IMAGE_SIZE,IMAGE_SIZE))\n",
    "    test_data.append(image_data/255)\n",
    "    id.append(i.split(\"\\\\\")[-2] + \"_\" + i.split(\"\\\\\")[-1].split(\".\")[0])\n",
    "\n",
    "#print(id)\n",
    "\n",
    "\n",
    "ground_truth = {}\n",
    "answer_txt = \"D:/GDbackup/PROJECT/AOI_rebuild/HackIDB_0614/release_test_answer.txt\"\n",
    "with open(answer_txt, 'r') as f:\n",
    "    for line in f:\n",
    "        key, pair = line.strip().split(',')\n",
    "        ground_truth[key] = pair\n",
    "#ground_truth\n",
    "\n",
    "\n",
    "\n",
    "test_data=np.array(test_data)\n",
    "#print (test_data.shape)\n",
    "test_data=test_data.reshape((test_data.shape)[0],(test_data.shape)[1],(test_data.shape)[2],3)\n",
    "dataframe_output=pd.DataFrame({\"id\":id})\n",
    "\n",
    "\n",
    "for key in dataframe_output['id']:\n",
    "    #print(key)\n",
    "    answer.append(ground_truth[key])\n",
    "\n",
    "predicted_labels=model.predict(test_data)\n",
    "predicted_labels=np.round(predicted_labels,decimals=2)\n",
    "labels=[1 if value>0.7 else 0 for value in predicted_labels]\n",
    "#print(predicted_labels)\n",
    "dataframe_output[\"label\"]=labels\n",
    "dataframe_output[\"answer\"]=answer\n",
    "dataframe_output[\"predicted_labels\"]=predicted_labels\n",
    "dataframe_output.to_csv('result.csv')\n"
   ]
  },
  {
   "cell_type": "code",
   "execution_count": 4,
   "metadata": {},
   "outputs": [
    {
     "name": "stdout",
     "output_type": "stream",
     "text": [
      "0424918056899_D1_C513 答案是:1 誤判成: 0\n"
     ]
    },
    {
     "data": {
      "image/png": "[encoded data removed]",
      "text/plain": [
       "<Figure size 432x288 with 1 Axes>"
      ]
     },
     "metadata": {},
     "output_type": "display_data"
    },
    {
     "name": "stdout",
     "output_type": "stream",
     "text": [
      "0424918056899_D2_C513 答案是:1 誤判成: 0\n"
     ]
    },
    {
     "data": {
      "image/png": "[encoded data removed]",
      "text/plain": [
       "<Figure size 432x288 with 1 Axes>"
      ]
     },
     "metadata": {},
     "output_type": "display_data"
    },
    {
     "name": "stdout",
     "output_type": "stream",
     "text": [
      "0424918057647_D1_C215 答案是:0 誤判成: 1\n"
     ]
    },
    {
     "data": {
      "image/png": "[encoded data removed]",
      "text/plain": [
       "<Figure size 432x288 with 1 Axes>"
      ]
     },
     "metadata": {},
     "output_type": "display_data"
    },
    {
     "name": "stdout",
     "output_type": "stream",
     "text": [
      "0424918057647_D2_C215 答案是:0 誤判成: 1\n"
     ]
    },
    {
     "data": {
      "image/png": "[encoded data removed]",
      "text/plain": [
       "<Figure size 432x288 with 1 Axes>"
      ]
     },
     "metadata": {},
     "output_type": "display_data"
    },
    {
     "name": "stdout",
     "output_type": "stream",
     "text": [
      "0424918057653_D1_C204 答案是:1 誤判成: 0\n"
     ]
    },
    {
     "data": {
      "image/png": "[encoded data removed]",
      "text/plain": [
       "<Figure size 432x288 with 1 Axes>"
      ]
     },
     "metadata": {},
     "output_type": "display_data"
    },
    {
     "name": "stdout",
     "output_type": "stream",
     "text": [
      "0424918057653_D2_C204 答案是:1 誤判成: 0\n"
     ]
    },
    {
     "data": {
      "image/png": "[encoded data removed]",
      "text/plain": [
       "<Figure size 432x288 with 1 Axes>"
      ]
     },
     "metadata": {},
     "output_type": "display_data"
    },
    {
     "name": "stdout",
     "output_type": "stream",
     "text": [
      "0424918058412_D0_C3 答案是:1 誤判成: 0\n"
     ]
    },
    {
     "data": {
      "image/png": "[encoded data removed]",
      "text/plain": [
       "<Figure size 432x288 with 1 Axes>"
      ]
     },
     "metadata": {},
     "output_type": "display_data"
    },
    {
     "name": "stdout",
     "output_type": "stream",
     "text": [
      "0424918058529_D2_C137 答案是:1 誤判成: 0\n"
     ]
    },
    {
     "data": {
      "image/png": "[encoded data removed]",
      "text/plain": [
       "<Figure size 432x288 with 1 Axes>"
      ]
     },
     "metadata": {},
     "output_type": "display_data"
    },
    {
     "name": "stdout",
     "output_type": "stream",
     "text": [
      "--------------------------------------\n",
      "準確率 ： 0.86206897\n",
      "錯了 8 個\n"
     ]
    }
   ],
   "source": [
    "import matplotlib.image as mpimg\n",
    "correct = 0\n",
    "with open('result.csv', newline='') as csvfile:    \n",
    "    rows = csv.DictReader(csvfile)\n",
    "    for row in rows:\n",
    "        if row['label'] == row['answer']:\n",
    "            correct += 1\n",
    "        else:\n",
    "            #print(row['id'] + \" 答案是:\" + row['answer'] + \" 誤判成: \" + row['label'] + \" 信賴值: \" + row['predicted_labels'])\n",
    "            print(row['id'] + \" 答案是:\" + row['answer'] + \" 誤判成: \" + row['label'])\n",
    "            file = str(row['id'].split(\"_\")[0] + \"/\")\n",
    "            file_jpg = str(row['id'].split(\"_\")[1] + \"_\" + row['id'].split(\"_\")[-1] + \".jpg\")\n",
    "            path = \"D:/GDbackup/PROJECT/AOI_rebuild/HackIDB_0614/release_test/\" + file + file_jpg\n",
    "            image = mpimg.imread(path)\n",
    "            plt.imshow(image)\n",
    "            plt.axis('off')\n",
    "            plt.show()     \n",
    "                    \n",
    "print(\"--------------------------------------\")\n",
    "print(\"準確率 ： %.8f\" %(correct/(rows.line_num-1)))\n",
    "print(\"錯了 %d 個\"%(rows.line_num-1-correct))"
   ]
  },
  {
   "cell_type": "code",
   "execution_count": null,
   "metadata": {},
   "outputs": [],
   "source": []
  }
 ],
 "metadata": {
  "kernelspec": {
   "display_name": "Python 3",
   "language": "python",
   "name": "python3"
  },
  "language_info": {
   "codemirror_mode": {
    "name": "ipython",
    "version": 3
   },
   "file_extension": ".py",
   "mimetype": "text/x-python",
   "name": "python",
   "nbconvert_exporter": "python",
   "pygments_lexer": "ipython3",
   "version": "3.6.5"
  }
 },
 "nbformat": 4,
 "nbformat_minor": 2
}
